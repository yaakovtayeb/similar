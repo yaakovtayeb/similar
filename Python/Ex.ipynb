{
 "cells": [
  {
   "cell_type": "code",
   "execution_count": 4,
   "metadata": {
    "collapsed": true
   },
   "outputs": [],
   "source": [
    "import numpy as np\n",
    "import pandas as pd\n",
    "import matplotlib.pyplot as plt\n",
    "import datetime\n",
    "\n",
    "# path=\"/Users/yaakovtayeb/github/similar/Clients/sportinglife.com_PP.tsv\"\n",
    "# data = pd.read_csv(path, sep='\\t', header=0) #read from file\n",
    "#path = \"/Users/yaakovtayeb/github/similar/Clients/sportinglife.com_PP_Full.tsv\"\n",
    "#data = pd.read_csv(path, sep=',', header=0)  # read from file\n",
    "data = pd.read_clipboard(sep='\\t') #read from clipboard\n",
    "data.columns = map(lambda x: x.replace(\"popularpages.\", \"\"), data.columns.values)\n",
    "data[\"date\"]=map(lambda y,m: datetime.date(y, m, 1), data[\"year\"]+2000, data[\"month\"])\n",
    "data.columns.values\n",
    "data.head()\n",
    "countries = set(data[(data[\"country\"]<999)][\"country\"])"
   ]
  },
  {
   "cell_type": "code",
   "execution_count": 5,
   "metadata": {},
   "outputs": [],
   "source": [
    "for c in countries:\n",
    "    fig = plt.figure(1, figsize=(12, 4))\n",
    "    fig.suptitle(\"Country: %d\" % c)\n",
    "    x = data.loc[(data[\"country\"] == c) & (data[\"platform\"] == \"desktop\")][\"date\"]\n",
    "    y = data.loc[(data[\"country\"]==c) & (data[\"platform\"]==\"desktop\")][\"estimatedvisits\"]\n",
    "    #plt.ylim(y.min() * 0.9, y.max() * 1.1)\n",
    "    # plt.title = \"Country: %d\" % c\n",
    "    plt.plot(x, y)\n",
    "    #raw_input(\"Press Enter to continue...\") #stop for manual processing"
   ]
  },
  {
   "cell_type": "code",
   "execution_count": null,
   "metadata": {},
   "outputs": [],
   "source": [
    ""
   ]
  }
 ],
 "metadata": {
  "kernelspec": {
   "display_name": "Python 2",
   "language": "python",
   "name": "python2"
  },
  "language_info": {
   "codemirror_mode": {
    "name": "ipython",
    "version": 2.0
   },
   "file_extension": ".py",
   "mimetype": "text/x-python",
   "name": "python",
   "nbconvert_exporter": "python",
   "pygments_lexer": "ipython2",
   "version": "2.7.6"
  }
 },
 "nbformat": 4,
 "nbformat_minor": 0
}